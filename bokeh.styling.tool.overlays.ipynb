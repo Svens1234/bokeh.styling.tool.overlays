{
 "cells": [
  {
   "cell_type": "code",
   "execution_count": 1,
   "id": "5ebbe3a3",
   "metadata": {},
   "outputs": [],
   "source": [
    "import numpy as np\n",
    "\n",
    "from bokeh.models import BoxSelectTool, BoxZoomTool, LassoSelectTool\n",
    "from bokeh.plotting import figure, output_file, show"
   ]
  },
  {
   "cell_type": "code",
   "execution_count": 2,
   "id": "1ebdd52b",
   "metadata": {},
   "outputs": [],
   "source": [
    "output_file(\"styling_tool_overlays.html\")\n",
    "\n",
    "x = np.random.random(size=200)\n",
    "y = np.random.random(size=200)\n",
    "\n",
    "# Basic plot setup\n",
    "plot = figure(width=400, height=400, title='Select and Zoom',\n",
    "              tools=\"box_select,box_zoom,lasso_select,reset\")\n",
    "\n",
    "plot.circle(x, y, size=5)\n",
    "\n",
    "select_overlay = plot.select_one(BoxSelectTool).overlay\n",
    "\n",
    "select_overlay.fill_color = \"firebrick\"\n",
    "select_overlay.line_color = None\n",
    "\n",
    "zoom_overlay = plot.select_one(BoxZoomTool).overlay\n",
    "\n",
    "zoom_overlay.line_color = \"olive\"\n",
    "zoom_overlay.line_width = 8\n",
    "zoom_overlay.line_dash = \"solid\"\n",
    "zoom_overlay.fill_color = None\n",
    "\n",
    "plot.select_one(LassoSelectTool).overlay.line_dash = [10, 10]"
   ]
  },
  {
   "cell_type": "code",
   "execution_count": 3,
   "id": "fbc94b01",
   "metadata": {},
   "outputs": [],
   "source": [
    "show(plot)"
   ]
  },
  {
   "cell_type": "code",
   "execution_count": null,
   "id": "62ecdbe5",
   "metadata": {},
   "outputs": [],
   "source": []
  }
 ],
 "metadata": {
  "kernelspec": {
   "display_name": "Python 3 (ipykernel)",
   "language": "python",
   "name": "python3"
  },
  "language_info": {
   "codemirror_mode": {
    "name": "ipython",
    "version": 3
   },
   "file_extension": ".py",
   "mimetype": "text/x-python",
   "name": "python",
   "nbconvert_exporter": "python",
   "pygments_lexer": "ipython3",
   "version": "3.10.5"
  }
 },
 "nbformat": 4,
 "nbformat_minor": 5
}
